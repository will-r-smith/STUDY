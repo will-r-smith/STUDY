{
 "cells": [
  {
   "cell_type": "code",
   "execution_count": null,
   "metadata": {},
   "outputs": [],
   "source": [
    "!kill -9 -1"
   ]
  },
  {
   "cell_type": "code",
   "execution_count": null,
   "metadata": {},
   "outputs": [],
   "source": [
    "import os\n",
    "os.chdir('/')\n",
    "!rm -rf /content/STUDY"
   ]
  },
  {
   "cell_type": "code",
   "execution_count": null,
   "metadata": {},
   "outputs": [],
   "source": [
    "# Clone the repository\n",
    "!git clone https://github.com/will-r-smith/STUDY.git /content/STUDY\n",
    "\n",
    "# Navigate to the repository directory\n",
    "import os\n",
    "os.chdir('/content/SELF')"
   ]
  },
  {
   "cell_type": "code",
   "execution_count": null,
   "metadata": {},
   "outputs": [],
   "source": [
    "!python run.py --test fine_tune --model roberta --intervention lr --lname fc_in --lnum 11 --rate 0.9 --prop_data 0.005 --dataset counterfact --batch_size 32 --num_epochs 10 --learning_rate 0.0001"
   ]
  }
 ],
 "metadata": {
  "language_info": {
   "name": "python"
  }
 },
 "nbformat": 4,
 "nbformat_minor": 2
}
