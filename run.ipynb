{
 "cells": [
  {
   "cell_type": "code",
   "execution_count": null,
   "metadata": {},
   "outputs": [],
   "source": [
    "!kill -9 -1"
   ]
  },
  {
   "cell_type": "code",
   "execution_count": null,
   "metadata": {},
   "outputs": [],
   "source": [
    "from google.colab import drive\n",
    "drive.mount('/content/drive')"
   ]
  },
  {
   "cell_type": "code",
   "execution_count": null,
   "metadata": {},
   "outputs": [],
   "source": [
    "import os\n",
    "os.chdir('/')\n",
    "!rm -rf /content/STUDY\n",
    "\n",
    "# Clone the repository\n",
    "!git clone https://github.com/will-r-smith/STUDY.git /content/STUDY\n",
    "\n",
    "# Navigate to the repository directory\n",
    "import os\n",
    "os.chdir('/content/STUDY')\n",
    "\n"
   ]
  },
  {
   "cell_type": "code",
   "execution_count": null,
   "metadata": {},
   "outputs": [],
   "source": [
    "# Fetch the latest changes from the remote repository\n",
    "!git fetch origin\n",
    "\n",
    "# Checkout the specific file you want to update\n",
    "specific_file = 'src/experiments.py'  # Replace with the path to your specific file\n",
    "!git checkout origin/main -- {specific_file}"
   ]
  },
  {
   "cell_type": "code",
   "execution_count": null,
   "metadata": {},
   "outputs": [],
   "source": [
    "!python run.py --test fine_tune --model roberta_large --intervention lr --verbose 3 --lname block1 --lnum 11 --rate 0.9 --prop_data 1 --dataset counterfact --batch_size 32 --num_epochs 20 --learning_rate 0.0001 --early_stopping 3"
   ]
  }
 ],
 "metadata": {
  "language_info": {
   "name": "python"
  }
 },
 "nbformat": 4,
 "nbformat_minor": 2
}
